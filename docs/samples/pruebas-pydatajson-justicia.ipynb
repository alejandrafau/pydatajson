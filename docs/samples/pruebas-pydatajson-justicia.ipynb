{
 "cells": [
  {
   "cell_type": "markdown",
   "metadata": {},
   "source": [
    "# Pruebas con el catálogo de justicia - válido"
   ]
  },
  {
   "cell_type": "markdown",
   "metadata": {},
   "source": [
    "\n",
    "## Importación de metodos y clases"
   ]
  },
  {
   "cell_type": "code",
   "execution_count": 3,
   "metadata": {
    "collapsed": false
   },
   "outputs": [],
   "source": [
    "from pydatajson import DataJson #lib y clase\n",
    "from pydatajson.pydatajson import read_catalog # lib, modulo ... metodo Lle el catalogo -json o xlsx o (local o url) dicc- y lo transforma en un diccionario de python\n",
    "from pydatajson.xlsx_to_json import write_json_catalog\n",
    "import arrow"
   ]
  },
  {
   "cell_type": "markdown",
   "metadata": {},
   "source": [
    "## Declaración de variables y paths"
   ]
  },
  {
   "cell_type": "code",
   "execution_count": 5,
   "metadata": {
    "collapsed": false
   },
   "outputs": [
    {
     "name": "stdout",
     "output_type": "stream",
     "text": [
      "tests\\excel_validos\\catalogo-justicia-2017-01-12.xlsx\n"
     ]
    }
   ],
   "source": [
    "ORGANISMO = 'justicia'\n"
   ]
  },
  {
   "cell_type": "code",
   "execution_count": null,
   "metadata": {
    "collapsed": true
   },
   "outputs": [],
   "source": [
    "HOY = arrow.now().format('YYYY-MM-DD')\n",
    "catalogo_xlsx = \"tests\\\\excel_validos\\\\catalogo-{}-{}.xlsx\".format(ORGANISMO, HOY)#ej:tests\\excel_validos\\catalogo-justicia-2017-01-12.xlsx\n",
    "catalogo_a_json = \"archivos-generados\\\\jsons\\\\catalogo-{}-{}.json\".format(ORGANISMO, HOY)\n",
    "reporte_datasets=\"archivos-generados\\\\reportes\\\\reporte-catalogo-{}-{}.xlsx\".format(ORGANISMO, HOY)\n",
    "archivo_config_sin_reporte=\"archivos-generados\\\\configuracion\\\\archivo-config_-{}-{}-sinr.csv\".format(ORGANISMO, HOY)\n",
    "archivo_config_con_reporte=\"archivos-generados\\\\configuracion\\\\archivo-config-{}-{}-conr.csv\".format(ORGANISMO, HOY)"
   ]
  },
  {
   "cell_type": "code",
   "execution_count": null,
   "metadata": {
    "collapsed": false
   },
   "outputs": [],
   "source": [
    "catalogo = read_catalog(catalogo_xlsx)"
   ]
  },
  {
   "cell_type": "markdown",
   "metadata": {},
   "source": [
    "## Transformación del catálogo, de xlsx a json"
   ]
  },
  {
   "cell_type": "code",
   "execution_count": null,
   "metadata": {
    "collapsed": false
   },
   "outputs": [],
   "source": [
    "write_json_catalog(catalogo, catalogo_a_json)\n",
    "##write_json_catalog(catalog, target_file)  escrie un dicc a un archivo json"
   ]
  },
  {
   "cell_type": "markdown",
   "metadata": {
    "collapsed": false,
    "scrolled": true
   },
   "source": [
    "## Instanciación de la clase DataJson"
   ]
  },
  {
   "cell_type": "code",
   "execution_count": null,
   "metadata": {
    "collapsed": false
   },
   "outputs": [],
   "source": [
    "dj = DataJson()"
   ]
  },
  {
   "cell_type": "markdown",
   "metadata": {},
   "source": [
    "### Validación -V/F- del catálogo en json"
   ]
  },
  {
   "cell_type": "code",
   "execution_count": null,
   "metadata": {
    "collapsed": false
   },
   "outputs": [],
   "source": [
    "dj.is_valid_catalog(catalogo)\n"
   ]
  },
  {
   "cell_type": "markdown",
   "metadata": {},
   "source": [
    "### Validación detallada del catálogo en json"
   ]
  },
  {
   "cell_type": "code",
   "execution_count": null,
   "metadata": {
    "collapsed": false
   },
   "outputs": [],
   "source": [
    "dj.validate_catalog(catalogo)"
   ]
  },
  {
   "cell_type": "markdown",
   "metadata": {},
   "source": [
    "## Generación del archivo de reporte de datasets"
   ]
  },
  {
   "cell_type": "code",
   "execution_count": null,
   "metadata": {
    "collapsed": true
   },
   "outputs": [],
   "source": [
    "dj.generate_datasets_report(catalogo_justicia, harvest='valid',export_path=reporte_datasets)\n",
    "# proceso el repote, 0 y 1s"
   ]
  },
  {
   "cell_type": "markdown",
   "metadata": {},
   "source": [
    "## Generación del archivo de configuración para el harvester"
   ]
  },
  {
   "cell_type": "code",
   "execution_count": null,
   "metadata": {
    "collapsed": false
   },
   "outputs": [],
   "source": [
    "#  usando el reporte\n",
    "dj.generate_harvester_config(harvest='report', report=reporte_datasets, export_path=archivo_config_con_reporte)"
   ]
  },
  {
   "cell_type": "code",
   "execution_count": null,
   "metadata": {
    "collapsed": true
   },
   "outputs": [],
   "source": [
    "# sin usar el reporte\n",
    "dj.generate_harvester_config(catalogs=catalogo_justicia, harvest='valid', export_path=archivo_config_sin_reporte)\n",
    "#(catalogs=None, harvest=u'valid', report=None, export_path=None)\n"
   ]
  }
 ],
 "metadata": {
  "anaconda-cloud": {},
  "kernelspec": {
   "display_name": "Python [conda root]",
   "language": "python",
   "name": "conda-root-py"
  },
  "language_info": {
   "codemirror_mode": {
    "name": "ipython",
    "version": 2
   },
   "file_extension": ".py",
   "mimetype": "text/x-python",
   "name": "python",
   "nbconvert_exporter": "python",
   "pygments_lexer": "ipython2",
   "version": "2.7.12"
  }
 },
 "nbformat": 4,
 "nbformat_minor": 1
}
