{
 "cells": [
  {
   "cell_type": "code",
   "execution_count": 1,
   "metadata": {
    "collapsed": true
   },
   "outputs": [],
   "source": [
    "import openpyxl as pyxl\n",
    "import json\n",
    "import io"
   ]
  },
  {
   "cell_type": "code",
   "execution_count": 2,
   "metadata": {
    "collapsed": true
   },
   "outputs": [],
   "source": [
    "dataxlsx = \"tests/catalogo_justicia.xlsx\""
   ]
  },
  {
   "cell_type": "code",
   "execution_count": 3,
   "metadata": {
    "collapsed": false
   },
   "outputs": [],
   "source": [
    "workbook = pyxl.load_workbook(dataxlsx)"
   ]
  },
  {
   "cell_type": "code",
   "execution_count": 4,
   "metadata": {
    "collapsed": false
   },
   "outputs": [],
   "source": [
    "def sheet_to_table(worksheet):\n",
    "    headers = [cell.value for cell in worksheet.rows[0]]\n",
    "    value_rows = [\n",
    "        [cell.value for cell in row] for row in worksheet.rows[1:] \n",
    "        # Únicamente considero filas con al menos un campo de valor no-nulo (None)\n",
    "        if any([cell.value for cell in row])]\n",
    "    \n",
    "    table = [\n",
    "        # Ignoro los campos con valores nulos (None)\n",
    "        {k: v for (k, v) in zip(headers, row) if v} \n",
    "        for row in value_rows\n",
    "    ]\n",
    "    return table\n",
    "\n",
    "def string_to_list(s):\n",
    "    return [value.strip() for value in s.split(\",\")]\n",
    "\n",
    "assert(string_to_list(\" pan , vino,gorriones ,23\")==[\"pan\", \"vino\", \"gorriones\", \"23\"])\n",
    "\n",
    "def get_dataset_index(dataset_identifier):\n",
    "    \"\"\"Devuelve el índice de un dataset en el catálogo en función de su identificador\"\"\"\n",
    "    matching_datasets = [idx for idx, dataset in enumerate(catalog[\"catalog_dataset\"]) if dataset[\"dataset_identifier\"]==dataset_identifier]\n",
    "    assert len(matching_datasets)!=0, \"No hay ningún dataset con el identifier {}\".format(dataset_identifier)\n",
    "    assert len(matching_datasets)<2, \"Hay más de un dataset con el identifier {}: {}\".format(dataset_identifier, matching_datasets)\n",
    "    dataset_index = matching_datasets[0]\n",
    "    \n",
    "    return dataset_index\n",
    "\n",
    "def get_distribution_indexes(dataset_identifier, distribution_title):\n",
    "    \"\"\"Devuelve el índice de una distribución en su dataset en función de su título, junto con el índice de su dataset padre en el catálogo, en función de su identificador\"\"\"\n",
    "    dataset_index = get_dataset_index(dataset_identifier)\n",
    "    dataset = catalog[\"catalog_dataset\"][dataset_index]\n",
    "    \n",
    "    matching_distributions = [idx for idx, distribution in enumerate(dataset[\"dataset_distribution\"]) if distribution[\"distribution_title\"]==distribution_title]\n",
    "    assert len(matching_distributions)!=0, \"No hay ninguna distribución con el título {} en el dataset con identificador {}\".format(distribution_title, dataset_identifier)\n",
    "    assert len(matching_distributions)<2, \"Hay más de una distribución con el título {} en el dataset con identificador {}: {}\".format(distribution_title, dataset_identifier, matching_distributions)\n",
    "    distribution_index = matching_distributions[0]\n",
    "    \n",
    "    return dataset_index, distribution_index"
   ]
  },
  {
   "cell_type": "code",
   "execution_count": 5,
   "metadata": {
    "collapsed": true
   },
   "outputs": [],
   "source": [
    "catalogs = sheet_to_table(workbook[\"Catalog\"])\n",
    "datasets = sheet_to_table(workbook[\"Dataset\"])\n",
    "distributions = sheet_to_table(workbook[\"Distribution\"])\n",
    "themes = sheet_to_table(workbook[\"Theme\"])\n",
    "fields = sheet_to_table(workbook[\"Field\"])"
   ]
  },
  {
   "cell_type": "code",
   "execution_count": 6,
   "metadata": {
    "collapsed": false
   },
   "outputs": [],
   "source": [
    "# Genero el catálogo base\n",
    "assert (len(catalogs)==1), \"Hay más de un catálogo en la hoja 'Catalog'\"\n",
    "catalog = catalogs[0]"
   ]
  },
  {
   "cell_type": "code",
   "execution_count": 7,
   "metadata": {
    "collapsed": false
   },
   "outputs": [],
   "source": [
    "# Agrego themes y datasets al catálogo\n",
    "catalog[\"catalog_themeTaxonomy\"] = themes\n",
    "catalog[\"catalog_dataset\"] = datasets"
   ]
  },
  {
   "cell_type": "code",
   "execution_count": 8,
   "metadata": {
    "collapsed": true
   },
   "outputs": [],
   "source": [
    "# Agrego lista de distribuciones vacía a cada datasets\n",
    "for dataset in catalog[\"catalog_dataset\"]:\n",
    "    dataset[\"dataset_distribution\"] = []"
   ]
  },
  {
   "cell_type": "code",
   "execution_count": 9,
   "metadata": {
    "collapsed": false
   },
   "outputs": [],
   "source": [
    "# Agrego distribuciones a los datasets\n",
    "for distribution in distributions:\n",
    "    dataset_title = distribution[\"dataset_title\"]\n",
    "    dataset_index = get_dataset_index(distribution[\"dataset_identifier\"])\n",
    "    catalog[\"catalog_dataset\"][dataset_index][\"dataset_distribution\"].append(distribution)"
   ]
  },
  {
   "cell_type": "code",
   "execution_count": 10,
   "metadata": {
    "collapsed": false
   },
   "outputs": [],
   "source": [
    "# Agrego fields a las distribuciones\n",
    "for field in fields:\n",
    "    dataset_index, distribution_index = get_distribution_indexes(field[\"dataset_identifier\"], field[\"distribution_title\"])\n",
    "    distribution = catalog[\"catalog_dataset\"][dataset_index][\"dataset_distribution\"][distribution_index]\n",
    "    if \"distribution_field\" in distribution:\n",
    "        distribution[\"distribution_field\"].append(field)\n",
    "    else:\n",
    "        distribution[\"distribution_field\"] = [field]"
   ]
  },
  {
   "cell_type": "code",
   "execution_count": 11,
   "metadata": {
    "collapsed": false
   },
   "outputs": [],
   "source": [
    "# Transformo campos de texto separado por comas en listas/arrays\n",
    "if \"catalog_language\" in catalog:\n",
    "    catalog[\"catalog_language\"] = string_to_list(catalog[\"catalog_language\"])\n",
    "\n",
    "for dataset in catalog[\"catalog_dataset\"]:\n",
    "    array_fields = [\"dataset_superTheme\", \"dataset_theme\", \"dataset_tags\", \"dataset_keyword\", \"dataset_language\"]\n",
    "    for field in array_fields:\n",
    "        if field in dataset:\n",
    "            dataset[field] = string_to_list(dataset[field])"
   ]
  },
  {
   "cell_type": "code",
   "execution_count": 12,
   "metadata": {
    "collapsed": false
   },
   "outputs": [],
   "source": [
    "# Elimino los prefijos de los campos a nivel catálogo\n",
    "for key in catalog.keys():\n",
    "    if key.startswith(\"catalog_\"):\n",
    "        catalog[key.replace(\"catalog_\", \"\")] = catalog.pop(key)\n",
    "    else:\n",
    "        catalog.pop(key)"
   ]
  },
  {
   "cell_type": "code",
   "execution_count": 13,
   "metadata": {
    "collapsed": false
   },
   "outputs": [],
   "source": [
    "# Elimino los prefijos de los campos a nivel tema\n",
    "for theme in catalog[\"themeTaxonomy\"]:\n",
    "    for key in theme.keys():\n",
    "        if key.startswith(\"theme_\"):\n",
    "            theme[key.replace(\"theme_\", \"\")] = theme.pop(key)\n",
    "        else:\n",
    "            theme.pop(key)"
   ]
  },
  {
   "cell_type": "code",
   "execution_count": 14,
   "metadata": {
    "collapsed": true
   },
   "outputs": [],
   "source": [
    "# Elimino los prefijos de los campos a nivel dataset\n",
    "for dataset in catalog[\"dataset\"]:\n",
    "    for key in dataset.keys():\n",
    "        if key.startswith(\"dataset_\"):\n",
    "            dataset[key.replace(\"dataset_\", \"\")] = dataset.pop(key)\n",
    "        else:\n",
    "            dataset.pop(key)\n",
    "    "
   ]
  },
  {
   "cell_type": "code",
   "execution_count": 15,
   "metadata": {
    "collapsed": false
   },
   "outputs": [],
   "source": [
    "# Elimino los campos auxiliares y los prefijos de los campos a nivel distribución\n",
    "for dataset in catalog[\"dataset\"]:\n",
    "    for distribution in dataset[\"distribution\"]:\n",
    "        for key in distribution.keys():\n",
    "            if key.startswith(\"distribution_\"):\n",
    "                    distribution[key.replace(\"distribution_\", \"\")] = distribution.pop(key)\n",
    "            else:\n",
    "                distribution.pop(key)"
   ]
  },
  {
   "cell_type": "code",
   "execution_count": 16,
   "metadata": {
    "collapsed": false
   },
   "outputs": [],
   "source": [
    "# Elimino los campos auxiliares y los prefijos de los campos a nivel \"campo\"\n",
    "for dataset in catalog[\"dataset\"]:\n",
    "    for distribution in dataset[\"distribution\"]:\n",
    "        if \"field\" in distribution:\n",
    "            for field in distribution[\"field\"]:\n",
    "                for key in field.keys():\n",
    "                    if key.startswith(\"field_\"):\n",
    "                        field[key.replace(\"field_\", \"\")] = field.pop(key)\n",
    "                    else:\n",
    "                        field.pop(key)"
   ]
  },
  {
   "cell_type": "code",
   "execution_count": 17,
   "metadata": {
    "collapsed": true
   },
   "outputs": [],
   "source": [
    "target_file = \"tests/catalogo_justicia.json\"\n",
    "\n",
    "catalog_str = json.dumps(catalog, indent=4, separators=(\",\", \": \"), encoding=\"utf-8\", ensure_ascii=False)\n",
    "with io.open(target_file, \"w\", encoding='utf-8') as target:\n",
    "    target.write(catalog_str)"
   ]
  }
 ],
 "metadata": {
  "anaconda-cloud": {},
  "kernelspec": {
   "display_name": "Python [conda root]",
   "language": "python",
   "name": "conda-root-py"
  },
  "language_info": {
   "codemirror_mode": {
    "name": "ipython",
    "version": 2
   },
   "file_extension": ".py",
   "mimetype": "text/x-python",
   "name": "python",
   "nbconvert_exporter": "python",
   "pygments_lexer": "ipython2",
   "version": "2.7.12"
  },
  "toc": {
   "nav_menu": {
    "height": "12px",
    "width": "252px"
   },
   "navigate_menu": true,
   "number_sections": true,
   "sideBar": true,
   "threshold": 4,
   "toc_cell": false,
   "toc_section_display": "block",
   "toc_window_display": false
  }
 },
 "nbformat": 4,
 "nbformat_minor": 1
}
